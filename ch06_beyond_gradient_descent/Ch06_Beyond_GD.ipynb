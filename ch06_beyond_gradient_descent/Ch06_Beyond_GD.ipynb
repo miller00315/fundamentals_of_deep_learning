{
  "nbformat": 4,
  "nbformat_minor": 0,
  "metadata": {
    "colab": {
      "name": "Ch06_Beyond_GD.ipynb",
      "provenance": [],
      "collapsed_sections": []
    },
    "kernelspec": {
      "name": "python3",
      "display_name": "Python 3"
    },
    "language_info": {
      "name": "python"
    },
    "widgets": {
      "application/vnd.jupyter.widget-state+json": {
        "7269fab6948840808e14c9ccdaaa918d": {
          "model_module": "@jupyter-widgets/controls",
          "model_name": "HBoxModel",
          "model_module_version": "1.5.0",
          "state": {
            "_view_name": "HBoxView",
            "_dom_classes": [],
            "_model_name": "HBoxModel",
            "_view_module": "@jupyter-widgets/controls",
            "_model_module_version": "1.5.0",
            "_view_count": null,
            "_view_module_version": "1.5.0",
            "box_style": "",
            "layout": "IPY_MODEL_c1c55b6c00d240f68ca44e78b8d1d291",
            "_model_module": "@jupyter-widgets/controls",
            "children": [
              "IPY_MODEL_32f78b8100d64490bf791b985e199619",
              "IPY_MODEL_4ea2f93f9950481fbe941983c3ac6c55",
              "IPY_MODEL_3baee13ef37a485fb0170474b820d38e"
            ]
          }
        },
        "c1c55b6c00d240f68ca44e78b8d1d291": {
          "model_module": "@jupyter-widgets/base",
          "model_name": "LayoutModel",
          "model_module_version": "1.2.0",
          "state": {
            "_view_name": "LayoutView",
            "grid_template_rows": null,
            "right": null,
            "justify_content": null,
            "_view_module": "@jupyter-widgets/base",
            "overflow": null,
            "_model_module_version": "1.2.0",
            "_view_count": null,
            "flex_flow": null,
            "width": null,
            "min_width": null,
            "border": null,
            "align_items": null,
            "bottom": null,
            "_model_module": "@jupyter-widgets/base",
            "top": null,
            "grid_column": null,
            "overflow_y": null,
            "overflow_x": null,
            "grid_auto_flow": null,
            "grid_area": null,
            "grid_template_columns": null,
            "flex": null,
            "_model_name": "LayoutModel",
            "justify_items": null,
            "grid_row": null,
            "max_height": null,
            "align_content": null,
            "visibility": null,
            "align_self": null,
            "height": null,
            "min_height": null,
            "padding": null,
            "grid_auto_rows": null,
            "grid_gap": null,
            "max_width": null,
            "order": null,
            "_view_module_version": "1.2.0",
            "grid_template_areas": null,
            "object_position": null,
            "object_fit": null,
            "grid_auto_columns": null,
            "margin": null,
            "display": null,
            "left": null
          }
        },
        "32f78b8100d64490bf791b985e199619": {
          "model_module": "@jupyter-widgets/controls",
          "model_name": "HTMLModel",
          "model_module_version": "1.5.0",
          "state": {
            "_view_name": "HTMLView",
            "style": "IPY_MODEL_3c10f625018143cc9b0baf97dc76474f",
            "_dom_classes": [],
            "description": "",
            "_model_name": "HTMLModel",
            "placeholder": "​",
            "_view_module": "@jupyter-widgets/controls",
            "_model_module_version": "1.5.0",
            "value": "",
            "_view_count": null,
            "_view_module_version": "1.5.0",
            "description_tooltip": null,
            "_model_module": "@jupyter-widgets/controls",
            "layout": "IPY_MODEL_7f081ea0ebce458aa9b2dbd6b4e38950"
          }
        },
        "4ea2f93f9950481fbe941983c3ac6c55": {
          "model_module": "@jupyter-widgets/controls",
          "model_name": "FloatProgressModel",
          "model_module_version": "1.5.0",
          "state": {
            "_view_name": "ProgressView",
            "style": "IPY_MODEL_6029ac9757614df980f94b8bc560a6f6",
            "_dom_classes": [],
            "description": "",
            "_model_name": "FloatProgressModel",
            "bar_style": "success",
            "max": 9912422,
            "_view_module": "@jupyter-widgets/controls",
            "_model_module_version": "1.5.0",
            "value": 9912422,
            "_view_count": null,
            "_view_module_version": "1.5.0",
            "orientation": "horizontal",
            "min": 0,
            "description_tooltip": null,
            "_model_module": "@jupyter-widgets/controls",
            "layout": "IPY_MODEL_de439d1dc17b4a818c57bc97c8ccd81a"
          }
        },
        "3baee13ef37a485fb0170474b820d38e": {
          "model_module": "@jupyter-widgets/controls",
          "model_name": "HTMLModel",
          "model_module_version": "1.5.0",
          "state": {
            "_view_name": "HTMLView",
            "style": "IPY_MODEL_d7d0a4ceeb67466eafeb5742b5e53432",
            "_dom_classes": [],
            "description": "",
            "_model_name": "HTMLModel",
            "placeholder": "​",
            "_view_module": "@jupyter-widgets/controls",
            "_model_module_version": "1.5.0",
            "value": " 9913344/? [00:01&lt;00:00, 10580175.46it/s]",
            "_view_count": null,
            "_view_module_version": "1.5.0",
            "description_tooltip": null,
            "_model_module": "@jupyter-widgets/controls",
            "layout": "IPY_MODEL_54e006dab2c8446aa09648414a352de8"
          }
        },
        "3c10f625018143cc9b0baf97dc76474f": {
          "model_module": "@jupyter-widgets/controls",
          "model_name": "DescriptionStyleModel",
          "model_module_version": "1.5.0",
          "state": {
            "_view_name": "StyleView",
            "_model_name": "DescriptionStyleModel",
            "description_width": "",
            "_view_module": "@jupyter-widgets/base",
            "_model_module_version": "1.5.0",
            "_view_count": null,
            "_view_module_version": "1.2.0",
            "_model_module": "@jupyter-widgets/controls"
          }
        },
        "7f081ea0ebce458aa9b2dbd6b4e38950": {
          "model_module": "@jupyter-widgets/base",
          "model_name": "LayoutModel",
          "model_module_version": "1.2.0",
          "state": {
            "_view_name": "LayoutView",
            "grid_template_rows": null,
            "right": null,
            "justify_content": null,
            "_view_module": "@jupyter-widgets/base",
            "overflow": null,
            "_model_module_version": "1.2.0",
            "_view_count": null,
            "flex_flow": null,
            "width": null,
            "min_width": null,
            "border": null,
            "align_items": null,
            "bottom": null,
            "_model_module": "@jupyter-widgets/base",
            "top": null,
            "grid_column": null,
            "overflow_y": null,
            "overflow_x": null,
            "grid_auto_flow": null,
            "grid_area": null,
            "grid_template_columns": null,
            "flex": null,
            "_model_name": "LayoutModel",
            "justify_items": null,
            "grid_row": null,
            "max_height": null,
            "align_content": null,
            "visibility": null,
            "align_self": null,
            "height": null,
            "min_height": null,
            "padding": null,
            "grid_auto_rows": null,
            "grid_gap": null,
            "max_width": null,
            "order": null,
            "_view_module_version": "1.2.0",
            "grid_template_areas": null,
            "object_position": null,
            "object_fit": null,
            "grid_auto_columns": null,
            "margin": null,
            "display": null,
            "left": null
          }
        },
        "6029ac9757614df980f94b8bc560a6f6": {
          "model_module": "@jupyter-widgets/controls",
          "model_name": "ProgressStyleModel",
          "model_module_version": "1.5.0",
          "state": {
            "_view_name": "StyleView",
            "_model_name": "ProgressStyleModel",
            "description_width": "",
            "_view_module": "@jupyter-widgets/base",
            "_model_module_version": "1.5.0",
            "_view_count": null,
            "_view_module_version": "1.2.0",
            "bar_color": null,
            "_model_module": "@jupyter-widgets/controls"
          }
        },
        "de439d1dc17b4a818c57bc97c8ccd81a": {
          "model_module": "@jupyter-widgets/base",
          "model_name": "LayoutModel",
          "model_module_version": "1.2.0",
          "state": {
            "_view_name": "LayoutView",
            "grid_template_rows": null,
            "right": null,
            "justify_content": null,
            "_view_module": "@jupyter-widgets/base",
            "overflow": null,
            "_model_module_version": "1.2.0",
            "_view_count": null,
            "flex_flow": null,
            "width": null,
            "min_width": null,
            "border": null,
            "align_items": null,
            "bottom": null,
            "_model_module": "@jupyter-widgets/base",
            "top": null,
            "grid_column": null,
            "overflow_y": null,
            "overflow_x": null,
            "grid_auto_flow": null,
            "grid_area": null,
            "grid_template_columns": null,
            "flex": null,
            "_model_name": "LayoutModel",
            "justify_items": null,
            "grid_row": null,
            "max_height": null,
            "align_content": null,
            "visibility": null,
            "align_self": null,
            "height": null,
            "min_height": null,
            "padding": null,
            "grid_auto_rows": null,
            "grid_gap": null,
            "max_width": null,
            "order": null,
            "_view_module_version": "1.2.0",
            "grid_template_areas": null,
            "object_position": null,
            "object_fit": null,
            "grid_auto_columns": null,
            "margin": null,
            "display": null,
            "left": null
          }
        },
        "d7d0a4ceeb67466eafeb5742b5e53432": {
          "model_module": "@jupyter-widgets/controls",
          "model_name": "DescriptionStyleModel",
          "model_module_version": "1.5.0",
          "state": {
            "_view_name": "StyleView",
            "_model_name": "DescriptionStyleModel",
            "description_width": "",
            "_view_module": "@jupyter-widgets/base",
            "_model_module_version": "1.5.0",
            "_view_count": null,
            "_view_module_version": "1.2.0",
            "_model_module": "@jupyter-widgets/controls"
          }
        },
        "54e006dab2c8446aa09648414a352de8": {
          "model_module": "@jupyter-widgets/base",
          "model_name": "LayoutModel",
          "model_module_version": "1.2.0",
          "state": {
            "_view_name": "LayoutView",
            "grid_template_rows": null,
            "right": null,
            "justify_content": null,
            "_view_module": "@jupyter-widgets/base",
            "overflow": null,
            "_model_module_version": "1.2.0",
            "_view_count": null,
            "flex_flow": null,
            "width": null,
            "min_width": null,
            "border": null,
            "align_items": null,
            "bottom": null,
            "_model_module": "@jupyter-widgets/base",
            "top": null,
            "grid_column": null,
            "overflow_y": null,
            "overflow_x": null,
            "grid_auto_flow": null,
            "grid_area": null,
            "grid_template_columns": null,
            "flex": null,
            "_model_name": "LayoutModel",
            "justify_items": null,
            "grid_row": null,
            "max_height": null,
            "align_content": null,
            "visibility": null,
            "align_self": null,
            "height": null,
            "min_height": null,
            "padding": null,
            "grid_auto_rows": null,
            "grid_gap": null,
            "max_width": null,
            "order": null,
            "_view_module_version": "1.2.0",
            "grid_template_areas": null,
            "object_position": null,
            "object_fit": null,
            "grid_auto_columns": null,
            "margin": null,
            "display": null,
            "left": null
          }
        },
        "74b219bda1dc469db86b7aa836ccc60c": {
          "model_module": "@jupyter-widgets/controls",
          "model_name": "HBoxModel",
          "model_module_version": "1.5.0",
          "state": {
            "_view_name": "HBoxView",
            "_dom_classes": [],
            "_model_name": "HBoxModel",
            "_view_module": "@jupyter-widgets/controls",
            "_model_module_version": "1.5.0",
            "_view_count": null,
            "_view_module_version": "1.5.0",
            "box_style": "",
            "layout": "IPY_MODEL_cbaff74ee22341e3ba488d7bd3548efe",
            "_model_module": "@jupyter-widgets/controls",
            "children": [
              "IPY_MODEL_9d97e5664c7548aea112fa101553a90a",
              "IPY_MODEL_62a2e5ffe70f4ab880a03837e2ea97c7",
              "IPY_MODEL_d15f1764a3b0447c8ed58b821afd24f5"
            ]
          }
        },
        "cbaff74ee22341e3ba488d7bd3548efe": {
          "model_module": "@jupyter-widgets/base",
          "model_name": "LayoutModel",
          "model_module_version": "1.2.0",
          "state": {
            "_view_name": "LayoutView",
            "grid_template_rows": null,
            "right": null,
            "justify_content": null,
            "_view_module": "@jupyter-widgets/base",
            "overflow": null,
            "_model_module_version": "1.2.0",
            "_view_count": null,
            "flex_flow": null,
            "width": null,
            "min_width": null,
            "border": null,
            "align_items": null,
            "bottom": null,
            "_model_module": "@jupyter-widgets/base",
            "top": null,
            "grid_column": null,
            "overflow_y": null,
            "overflow_x": null,
            "grid_auto_flow": null,
            "grid_area": null,
            "grid_template_columns": null,
            "flex": null,
            "_model_name": "LayoutModel",
            "justify_items": null,
            "grid_row": null,
            "max_height": null,
            "align_content": null,
            "visibility": null,
            "align_self": null,
            "height": null,
            "min_height": null,
            "padding": null,
            "grid_auto_rows": null,
            "grid_gap": null,
            "max_width": null,
            "order": null,
            "_view_module_version": "1.2.0",
            "grid_template_areas": null,
            "object_position": null,
            "object_fit": null,
            "grid_auto_columns": null,
            "margin": null,
            "display": null,
            "left": null
          }
        },
        "9d97e5664c7548aea112fa101553a90a": {
          "model_module": "@jupyter-widgets/controls",
          "model_name": "HTMLModel",
          "model_module_version": "1.5.0",
          "state": {
            "_view_name": "HTMLView",
            "style": "IPY_MODEL_afc3f25f42b24b5e9489223d112574b5",
            "_dom_classes": [],
            "description": "",
            "_model_name": "HTMLModel",
            "placeholder": "​",
            "_view_module": "@jupyter-widgets/controls",
            "_model_module_version": "1.5.0",
            "value": "",
            "_view_count": null,
            "_view_module_version": "1.5.0",
            "description_tooltip": null,
            "_model_module": "@jupyter-widgets/controls",
            "layout": "IPY_MODEL_69eaaa7628b148ce82ca395f98ca39df"
          }
        },
        "62a2e5ffe70f4ab880a03837e2ea97c7": {
          "model_module": "@jupyter-widgets/controls",
          "model_name": "FloatProgressModel",
          "model_module_version": "1.5.0",
          "state": {
            "_view_name": "ProgressView",
            "style": "IPY_MODEL_428d08a2ea6145948931e2a140ff0547",
            "_dom_classes": [],
            "description": "",
            "_model_name": "FloatProgressModel",
            "bar_style": "success",
            "max": 28881,
            "_view_module": "@jupyter-widgets/controls",
            "_model_module_version": "1.5.0",
            "value": 28881,
            "_view_count": null,
            "_view_module_version": "1.5.0",
            "orientation": "horizontal",
            "min": 0,
            "description_tooltip": null,
            "_model_module": "@jupyter-widgets/controls",
            "layout": "IPY_MODEL_f019e5541ab74a2bba0dcbec8d24a617"
          }
        },
        "d15f1764a3b0447c8ed58b821afd24f5": {
          "model_module": "@jupyter-widgets/controls",
          "model_name": "HTMLModel",
          "model_module_version": "1.5.0",
          "state": {
            "_view_name": "HTMLView",
            "style": "IPY_MODEL_c17f3b34172548d4b36d33a7da0f4418",
            "_dom_classes": [],
            "description": "",
            "_model_name": "HTMLModel",
            "placeholder": "​",
            "_view_module": "@jupyter-widgets/controls",
            "_model_module_version": "1.5.0",
            "value": " 29696/? [00:00&lt;00:00, 346147.90it/s]",
            "_view_count": null,
            "_view_module_version": "1.5.0",
            "description_tooltip": null,
            "_model_module": "@jupyter-widgets/controls",
            "layout": "IPY_MODEL_2f710a211ef64cd6bf8b8e374f7b148b"
          }
        },
        "afc3f25f42b24b5e9489223d112574b5": {
          "model_module": "@jupyter-widgets/controls",
          "model_name": "DescriptionStyleModel",
          "model_module_version": "1.5.0",
          "state": {
            "_view_name": "StyleView",
            "_model_name": "DescriptionStyleModel",
            "description_width": "",
            "_view_module": "@jupyter-widgets/base",
            "_model_module_version": "1.5.0",
            "_view_count": null,
            "_view_module_version": "1.2.0",
            "_model_module": "@jupyter-widgets/controls"
          }
        },
        "69eaaa7628b148ce82ca395f98ca39df": {
          "model_module": "@jupyter-widgets/base",
          "model_name": "LayoutModel",
          "model_module_version": "1.2.0",
          "state": {
            "_view_name": "LayoutView",
            "grid_template_rows": null,
            "right": null,
            "justify_content": null,
            "_view_module": "@jupyter-widgets/base",
            "overflow": null,
            "_model_module_version": "1.2.0",
            "_view_count": null,
            "flex_flow": null,
            "width": null,
            "min_width": null,
            "border": null,
            "align_items": null,
            "bottom": null,
            "_model_module": "@jupyter-widgets/base",
            "top": null,
            "grid_column": null,
            "overflow_y": null,
            "overflow_x": null,
            "grid_auto_flow": null,
            "grid_area": null,
            "grid_template_columns": null,
            "flex": null,
            "_model_name": "LayoutModel",
            "justify_items": null,
            "grid_row": null,
            "max_height": null,
            "align_content": null,
            "visibility": null,
            "align_self": null,
            "height": null,
            "min_height": null,
            "padding": null,
            "grid_auto_rows": null,
            "grid_gap": null,
            "max_width": null,
            "order": null,
            "_view_module_version": "1.2.0",
            "grid_template_areas": null,
            "object_position": null,
            "object_fit": null,
            "grid_auto_columns": null,
            "margin": null,
            "display": null,
            "left": null
          }
        },
        "428d08a2ea6145948931e2a140ff0547": {
          "model_module": "@jupyter-widgets/controls",
          "model_name": "ProgressStyleModel",
          "model_module_version": "1.5.0",
          "state": {
            "_view_name": "StyleView",
            "_model_name": "ProgressStyleModel",
            "description_width": "",
            "_view_module": "@jupyter-widgets/base",
            "_model_module_version": "1.5.0",
            "_view_count": null,
            "_view_module_version": "1.2.0",
            "bar_color": null,
            "_model_module": "@jupyter-widgets/controls"
          }
        },
        "f019e5541ab74a2bba0dcbec8d24a617": {
          "model_module": "@jupyter-widgets/base",
          "model_name": "LayoutModel",
          "model_module_version": "1.2.0",
          "state": {
            "_view_name": "LayoutView",
            "grid_template_rows": null,
            "right": null,
            "justify_content": null,
            "_view_module": "@jupyter-widgets/base",
            "overflow": null,
            "_model_module_version": "1.2.0",
            "_view_count": null,
            "flex_flow": null,
            "width": null,
            "min_width": null,
            "border": null,
            "align_items": null,
            "bottom": null,
            "_model_module": "@jupyter-widgets/base",
            "top": null,
            "grid_column": null,
            "overflow_y": null,
            "overflow_x": null,
            "grid_auto_flow": null,
            "grid_area": null,
            "grid_template_columns": null,
            "flex": null,
            "_model_name": "LayoutModel",
            "justify_items": null,
            "grid_row": null,
            "max_height": null,
            "align_content": null,
            "visibility": null,
            "align_self": null,
            "height": null,
            "min_height": null,
            "padding": null,
            "grid_auto_rows": null,
            "grid_gap": null,
            "max_width": null,
            "order": null,
            "_view_module_version": "1.2.0",
            "grid_template_areas": null,
            "object_position": null,
            "object_fit": null,
            "grid_auto_columns": null,
            "margin": null,
            "display": null,
            "left": null
          }
        },
        "c17f3b34172548d4b36d33a7da0f4418": {
          "model_module": "@jupyter-widgets/controls",
          "model_name": "DescriptionStyleModel",
          "model_module_version": "1.5.0",
          "state": {
            "_view_name": "StyleView",
            "_model_name": "DescriptionStyleModel",
            "description_width": "",
            "_view_module": "@jupyter-widgets/base",
            "_model_module_version": "1.5.0",
            "_view_count": null,
            "_view_module_version": "1.2.0",
            "_model_module": "@jupyter-widgets/controls"
          }
        },
        "2f710a211ef64cd6bf8b8e374f7b148b": {
          "model_module": "@jupyter-widgets/base",
          "model_name": "LayoutModel",
          "model_module_version": "1.2.0",
          "state": {
            "_view_name": "LayoutView",
            "grid_template_rows": null,
            "right": null,
            "justify_content": null,
            "_view_module": "@jupyter-widgets/base",
            "overflow": null,
            "_model_module_version": "1.2.0",
            "_view_count": null,
            "flex_flow": null,
            "width": null,
            "min_width": null,
            "border": null,
            "align_items": null,
            "bottom": null,
            "_model_module": "@jupyter-widgets/base",
            "top": null,
            "grid_column": null,
            "overflow_y": null,
            "overflow_x": null,
            "grid_auto_flow": null,
            "grid_area": null,
            "grid_template_columns": null,
            "flex": null,
            "_model_name": "LayoutModel",
            "justify_items": null,
            "grid_row": null,
            "max_height": null,
            "align_content": null,
            "visibility": null,
            "align_self": null,
            "height": null,
            "min_height": null,
            "padding": null,
            "grid_auto_rows": null,
            "grid_gap": null,
            "max_width": null,
            "order": null,
            "_view_module_version": "1.2.0",
            "grid_template_areas": null,
            "object_position": null,
            "object_fit": null,
            "grid_auto_columns": null,
            "margin": null,
            "display": null,
            "left": null
          }
        },
        "dfde95fb58db4a289c921454733db858": {
          "model_module": "@jupyter-widgets/controls",
          "model_name": "HBoxModel",
          "model_module_version": "1.5.0",
          "state": {
            "_view_name": "HBoxView",
            "_dom_classes": [],
            "_model_name": "HBoxModel",
            "_view_module": "@jupyter-widgets/controls",
            "_model_module_version": "1.5.0",
            "_view_count": null,
            "_view_module_version": "1.5.0",
            "box_style": "",
            "layout": "IPY_MODEL_f9417d3dfb0345cdb7227e41e9bc9fb8",
            "_model_module": "@jupyter-widgets/controls",
            "children": [
              "IPY_MODEL_a1571c6e89e64002b35420e07f7218fb",
              "IPY_MODEL_cfa52a95b68743cd963c5edc0b9a182f",
              "IPY_MODEL_c9364db45b6e42b48e3bba15fa5ed325"
            ]
          }
        },
        "f9417d3dfb0345cdb7227e41e9bc9fb8": {
          "model_module": "@jupyter-widgets/base",
          "model_name": "LayoutModel",
          "model_module_version": "1.2.0",
          "state": {
            "_view_name": "LayoutView",
            "grid_template_rows": null,
            "right": null,
            "justify_content": null,
            "_view_module": "@jupyter-widgets/base",
            "overflow": null,
            "_model_module_version": "1.2.0",
            "_view_count": null,
            "flex_flow": null,
            "width": null,
            "min_width": null,
            "border": null,
            "align_items": null,
            "bottom": null,
            "_model_module": "@jupyter-widgets/base",
            "top": null,
            "grid_column": null,
            "overflow_y": null,
            "overflow_x": null,
            "grid_auto_flow": null,
            "grid_area": null,
            "grid_template_columns": null,
            "flex": null,
            "_model_name": "LayoutModel",
            "justify_items": null,
            "grid_row": null,
            "max_height": null,
            "align_content": null,
            "visibility": null,
            "align_self": null,
            "height": null,
            "min_height": null,
            "padding": null,
            "grid_auto_rows": null,
            "grid_gap": null,
            "max_width": null,
            "order": null,
            "_view_module_version": "1.2.0",
            "grid_template_areas": null,
            "object_position": null,
            "object_fit": null,
            "grid_auto_columns": null,
            "margin": null,
            "display": null,
            "left": null
          }
        },
        "a1571c6e89e64002b35420e07f7218fb": {
          "model_module": "@jupyter-widgets/controls",
          "model_name": "HTMLModel",
          "model_module_version": "1.5.0",
          "state": {
            "_view_name": "HTMLView",
            "style": "IPY_MODEL_140697869e3849feb58d730f98b0e31f",
            "_dom_classes": [],
            "description": "",
            "_model_name": "HTMLModel",
            "placeholder": "​",
            "_view_module": "@jupyter-widgets/controls",
            "_model_module_version": "1.5.0",
            "value": "",
            "_view_count": null,
            "_view_module_version": "1.5.0",
            "description_tooltip": null,
            "_model_module": "@jupyter-widgets/controls",
            "layout": "IPY_MODEL_38aad26bbb5540d0bc0e8b51d62a6fcb"
          }
        },
        "cfa52a95b68743cd963c5edc0b9a182f": {
          "model_module": "@jupyter-widgets/controls",
          "model_name": "FloatProgressModel",
          "model_module_version": "1.5.0",
          "state": {
            "_view_name": "ProgressView",
            "style": "IPY_MODEL_244d201fd2904c7ba81aff67700ea52d",
            "_dom_classes": [],
            "description": "",
            "_model_name": "FloatProgressModel",
            "bar_style": "success",
            "max": 1648877,
            "_view_module": "@jupyter-widgets/controls",
            "_model_module_version": "1.5.0",
            "value": 1648877,
            "_view_count": null,
            "_view_module_version": "1.5.0",
            "orientation": "horizontal",
            "min": 0,
            "description_tooltip": null,
            "_model_module": "@jupyter-widgets/controls",
            "layout": "IPY_MODEL_db4793fdcd2e45cc82ae623705135f79"
          }
        },
        "c9364db45b6e42b48e3bba15fa5ed325": {
          "model_module": "@jupyter-widgets/controls",
          "model_name": "HTMLModel",
          "model_module_version": "1.5.0",
          "state": {
            "_view_name": "HTMLView",
            "style": "IPY_MODEL_0ef09bc5cb134379b24e35047f38c7a4",
            "_dom_classes": [],
            "description": "",
            "_model_name": "HTMLModel",
            "placeholder": "​",
            "_view_module": "@jupyter-widgets/controls",
            "_model_module_version": "1.5.0",
            "value": " 1649664/? [00:00&lt;00:00, 2961936.43it/s]",
            "_view_count": null,
            "_view_module_version": "1.5.0",
            "description_tooltip": null,
            "_model_module": "@jupyter-widgets/controls",
            "layout": "IPY_MODEL_6e40912149544db9bd5f6c4e826ca334"
          }
        },
        "140697869e3849feb58d730f98b0e31f": {
          "model_module": "@jupyter-widgets/controls",
          "model_name": "DescriptionStyleModel",
          "model_module_version": "1.5.0",
          "state": {
            "_view_name": "StyleView",
            "_model_name": "DescriptionStyleModel",
            "description_width": "",
            "_view_module": "@jupyter-widgets/base",
            "_model_module_version": "1.5.0",
            "_view_count": null,
            "_view_module_version": "1.2.0",
            "_model_module": "@jupyter-widgets/controls"
          }
        },
        "38aad26bbb5540d0bc0e8b51d62a6fcb": {
          "model_module": "@jupyter-widgets/base",
          "model_name": "LayoutModel",
          "model_module_version": "1.2.0",
          "state": {
            "_view_name": "LayoutView",
            "grid_template_rows": null,
            "right": null,
            "justify_content": null,
            "_view_module": "@jupyter-widgets/base",
            "overflow": null,
            "_model_module_version": "1.2.0",
            "_view_count": null,
            "flex_flow": null,
            "width": null,
            "min_width": null,
            "border": null,
            "align_items": null,
            "bottom": null,
            "_model_module": "@jupyter-widgets/base",
            "top": null,
            "grid_column": null,
            "overflow_y": null,
            "overflow_x": null,
            "grid_auto_flow": null,
            "grid_area": null,
            "grid_template_columns": null,
            "flex": null,
            "_model_name": "LayoutModel",
            "justify_items": null,
            "grid_row": null,
            "max_height": null,
            "align_content": null,
            "visibility": null,
            "align_self": null,
            "height": null,
            "min_height": null,
            "padding": null,
            "grid_auto_rows": null,
            "grid_gap": null,
            "max_width": null,
            "order": null,
            "_view_module_version": "1.2.0",
            "grid_template_areas": null,
            "object_position": null,
            "object_fit": null,
            "grid_auto_columns": null,
            "margin": null,
            "display": null,
            "left": null
          }
        },
        "244d201fd2904c7ba81aff67700ea52d": {
          "model_module": "@jupyter-widgets/controls",
          "model_name": "ProgressStyleModel",
          "model_module_version": "1.5.0",
          "state": {
            "_view_name": "StyleView",
            "_model_name": "ProgressStyleModel",
            "description_width": "",
            "_view_module": "@jupyter-widgets/base",
            "_model_module_version": "1.5.0",
            "_view_count": null,
            "_view_module_version": "1.2.0",
            "bar_color": null,
            "_model_module": "@jupyter-widgets/controls"
          }
        },
        "db4793fdcd2e45cc82ae623705135f79": {
          "model_module": "@jupyter-widgets/base",
          "model_name": "LayoutModel",
          "model_module_version": "1.2.0",
          "state": {
            "_view_name": "LayoutView",
            "grid_template_rows": null,
            "right": null,
            "justify_content": null,
            "_view_module": "@jupyter-widgets/base",
            "overflow": null,
            "_model_module_version": "1.2.0",
            "_view_count": null,
            "flex_flow": null,
            "width": null,
            "min_width": null,
            "border": null,
            "align_items": null,
            "bottom": null,
            "_model_module": "@jupyter-widgets/base",
            "top": null,
            "grid_column": null,
            "overflow_y": null,
            "overflow_x": null,
            "grid_auto_flow": null,
            "grid_area": null,
            "grid_template_columns": null,
            "flex": null,
            "_model_name": "LayoutModel",
            "justify_items": null,
            "grid_row": null,
            "max_height": null,
            "align_content": null,
            "visibility": null,
            "align_self": null,
            "height": null,
            "min_height": null,
            "padding": null,
            "grid_auto_rows": null,
            "grid_gap": null,
            "max_width": null,
            "order": null,
            "_view_module_version": "1.2.0",
            "grid_template_areas": null,
            "object_position": null,
            "object_fit": null,
            "grid_auto_columns": null,
            "margin": null,
            "display": null,
            "left": null
          }
        },
        "0ef09bc5cb134379b24e35047f38c7a4": {
          "model_module": "@jupyter-widgets/controls",
          "model_name": "DescriptionStyleModel",
          "model_module_version": "1.5.0",
          "state": {
            "_view_name": "StyleView",
            "_model_name": "DescriptionStyleModel",
            "description_width": "",
            "_view_module": "@jupyter-widgets/base",
            "_model_module_version": "1.5.0",
            "_view_count": null,
            "_view_module_version": "1.2.0",
            "_model_module": "@jupyter-widgets/controls"
          }
        },
        "6e40912149544db9bd5f6c4e826ca334": {
          "model_module": "@jupyter-widgets/base",
          "model_name": "LayoutModel",
          "model_module_version": "1.2.0",
          "state": {
            "_view_name": "LayoutView",
            "grid_template_rows": null,
            "right": null,
            "justify_content": null,
            "_view_module": "@jupyter-widgets/base",
            "overflow": null,
            "_model_module_version": "1.2.0",
            "_view_count": null,
            "flex_flow": null,
            "width": null,
            "min_width": null,
            "border": null,
            "align_items": null,
            "bottom": null,
            "_model_module": "@jupyter-widgets/base",
            "top": null,
            "grid_column": null,
            "overflow_y": null,
            "overflow_x": null,
            "grid_auto_flow": null,
            "grid_area": null,
            "grid_template_columns": null,
            "flex": null,
            "_model_name": "LayoutModel",
            "justify_items": null,
            "grid_row": null,
            "max_height": null,
            "align_content": null,
            "visibility": null,
            "align_self": null,
            "height": null,
            "min_height": null,
            "padding": null,
            "grid_auto_rows": null,
            "grid_gap": null,
            "max_width": null,
            "order": null,
            "_view_module_version": "1.2.0",
            "grid_template_areas": null,
            "object_position": null,
            "object_fit": null,
            "grid_auto_columns": null,
            "margin": null,
            "display": null,
            "left": null
          }
        },
        "0097532cf6f54c3c997e2519cae1fd67": {
          "model_module": "@jupyter-widgets/controls",
          "model_name": "HBoxModel",
          "model_module_version": "1.5.0",
          "state": {
            "_view_name": "HBoxView",
            "_dom_classes": [],
            "_model_name": "HBoxModel",
            "_view_module": "@jupyter-widgets/controls",
            "_model_module_version": "1.5.0",
            "_view_count": null,
            "_view_module_version": "1.5.0",
            "box_style": "",
            "layout": "IPY_MODEL_0faf4503356049a7b526cc3e92c9d5aa",
            "_model_module": "@jupyter-widgets/controls",
            "children": [
              "IPY_MODEL_d46d517fcafa40e48eb50883933e7ea7",
              "IPY_MODEL_61556930b3494d3cb4a4bbcfa303f697",
              "IPY_MODEL_3d684cf6bd5a4e69bdd013c9ce001f51"
            ]
          }
        },
        "0faf4503356049a7b526cc3e92c9d5aa": {
          "model_module": "@jupyter-widgets/base",
          "model_name": "LayoutModel",
          "model_module_version": "1.2.0",
          "state": {
            "_view_name": "LayoutView",
            "grid_template_rows": null,
            "right": null,
            "justify_content": null,
            "_view_module": "@jupyter-widgets/base",
            "overflow": null,
            "_model_module_version": "1.2.0",
            "_view_count": null,
            "flex_flow": null,
            "width": null,
            "min_width": null,
            "border": null,
            "align_items": null,
            "bottom": null,
            "_model_module": "@jupyter-widgets/base",
            "top": null,
            "grid_column": null,
            "overflow_y": null,
            "overflow_x": null,
            "grid_auto_flow": null,
            "grid_area": null,
            "grid_template_columns": null,
            "flex": null,
            "_model_name": "LayoutModel",
            "justify_items": null,
            "grid_row": null,
            "max_height": null,
            "align_content": null,
            "visibility": null,
            "align_self": null,
            "height": null,
            "min_height": null,
            "padding": null,
            "grid_auto_rows": null,
            "grid_gap": null,
            "max_width": null,
            "order": null,
            "_view_module_version": "1.2.0",
            "grid_template_areas": null,
            "object_position": null,
            "object_fit": null,
            "grid_auto_columns": null,
            "margin": null,
            "display": null,
            "left": null
          }
        },
        "d46d517fcafa40e48eb50883933e7ea7": {
          "model_module": "@jupyter-widgets/controls",
          "model_name": "HTMLModel",
          "model_module_version": "1.5.0",
          "state": {
            "_view_name": "HTMLView",
            "style": "IPY_MODEL_e4f26680da424381bd0f040c3d1efd0a",
            "_dom_classes": [],
            "description": "",
            "_model_name": "HTMLModel",
            "placeholder": "​",
            "_view_module": "@jupyter-widgets/controls",
            "_model_module_version": "1.5.0",
            "value": "",
            "_view_count": null,
            "_view_module_version": "1.5.0",
            "description_tooltip": null,
            "_model_module": "@jupyter-widgets/controls",
            "layout": "IPY_MODEL_0fd21277ac31445f991067f1a5d0c0bd"
          }
        },
        "61556930b3494d3cb4a4bbcfa303f697": {
          "model_module": "@jupyter-widgets/controls",
          "model_name": "FloatProgressModel",
          "model_module_version": "1.5.0",
          "state": {
            "_view_name": "ProgressView",
            "style": "IPY_MODEL_ab7084d4474f41208b6be1db34018195",
            "_dom_classes": [],
            "description": "",
            "_model_name": "FloatProgressModel",
            "bar_style": "success",
            "max": 4542,
            "_view_module": "@jupyter-widgets/controls",
            "_model_module_version": "1.5.0",
            "value": 4542,
            "_view_count": null,
            "_view_module_version": "1.5.0",
            "orientation": "horizontal",
            "min": 0,
            "description_tooltip": null,
            "_model_module": "@jupyter-widgets/controls",
            "layout": "IPY_MODEL_7982d4b4d0ce4402b8d2a935386901c7"
          }
        },
        "3d684cf6bd5a4e69bdd013c9ce001f51": {
          "model_module": "@jupyter-widgets/controls",
          "model_name": "HTMLModel",
          "model_module_version": "1.5.0",
          "state": {
            "_view_name": "HTMLView",
            "style": "IPY_MODEL_706e2a4680c44153af51b879f6d87a66",
            "_dom_classes": [],
            "description": "",
            "_model_name": "HTMLModel",
            "placeholder": "​",
            "_view_module": "@jupyter-widgets/controls",
            "_model_module_version": "1.5.0",
            "value": " 5120/? [00:00&lt;00:00, 7816.08it/s]",
            "_view_count": null,
            "_view_module_version": "1.5.0",
            "description_tooltip": null,
            "_model_module": "@jupyter-widgets/controls",
            "layout": "IPY_MODEL_ef10b4aae3d64bd9bf031eb09c1747e0"
          }
        },
        "e4f26680da424381bd0f040c3d1efd0a": {
          "model_module": "@jupyter-widgets/controls",
          "model_name": "DescriptionStyleModel",
          "model_module_version": "1.5.0",
          "state": {
            "_view_name": "StyleView",
            "_model_name": "DescriptionStyleModel",
            "description_width": "",
            "_view_module": "@jupyter-widgets/base",
            "_model_module_version": "1.5.0",
            "_view_count": null,
            "_view_module_version": "1.2.0",
            "_model_module": "@jupyter-widgets/controls"
          }
        },
        "0fd21277ac31445f991067f1a5d0c0bd": {
          "model_module": "@jupyter-widgets/base",
          "model_name": "LayoutModel",
          "model_module_version": "1.2.0",
          "state": {
            "_view_name": "LayoutView",
            "grid_template_rows": null,
            "right": null,
            "justify_content": null,
            "_view_module": "@jupyter-widgets/base",
            "overflow": null,
            "_model_module_version": "1.2.0",
            "_view_count": null,
            "flex_flow": null,
            "width": null,
            "min_width": null,
            "border": null,
            "align_items": null,
            "bottom": null,
            "_model_module": "@jupyter-widgets/base",
            "top": null,
            "grid_column": null,
            "overflow_y": null,
            "overflow_x": null,
            "grid_auto_flow": null,
            "grid_area": null,
            "grid_template_columns": null,
            "flex": null,
            "_model_name": "LayoutModel",
            "justify_items": null,
            "grid_row": null,
            "max_height": null,
            "align_content": null,
            "visibility": null,
            "align_self": null,
            "height": null,
            "min_height": null,
            "padding": null,
            "grid_auto_rows": null,
            "grid_gap": null,
            "max_width": null,
            "order": null,
            "_view_module_version": "1.2.0",
            "grid_template_areas": null,
            "object_position": null,
            "object_fit": null,
            "grid_auto_columns": null,
            "margin": null,
            "display": null,
            "left": null
          }
        },
        "ab7084d4474f41208b6be1db34018195": {
          "model_module": "@jupyter-widgets/controls",
          "model_name": "ProgressStyleModel",
          "model_module_version": "1.5.0",
          "state": {
            "_view_name": "StyleView",
            "_model_name": "ProgressStyleModel",
            "description_width": "",
            "_view_module": "@jupyter-widgets/base",
            "_model_module_version": "1.5.0",
            "_view_count": null,
            "_view_module_version": "1.2.0",
            "bar_color": null,
            "_model_module": "@jupyter-widgets/controls"
          }
        },
        "7982d4b4d0ce4402b8d2a935386901c7": {
          "model_module": "@jupyter-widgets/base",
          "model_name": "LayoutModel",
          "model_module_version": "1.2.0",
          "state": {
            "_view_name": "LayoutView",
            "grid_template_rows": null,
            "right": null,
            "justify_content": null,
            "_view_module": "@jupyter-widgets/base",
            "overflow": null,
            "_model_module_version": "1.2.0",
            "_view_count": null,
            "flex_flow": null,
            "width": null,
            "min_width": null,
            "border": null,
            "align_items": null,
            "bottom": null,
            "_model_module": "@jupyter-widgets/base",
            "top": null,
            "grid_column": null,
            "overflow_y": null,
            "overflow_x": null,
            "grid_auto_flow": null,
            "grid_area": null,
            "grid_template_columns": null,
            "flex": null,
            "_model_name": "LayoutModel",
            "justify_items": null,
            "grid_row": null,
            "max_height": null,
            "align_content": null,
            "visibility": null,
            "align_self": null,
            "height": null,
            "min_height": null,
            "padding": null,
            "grid_auto_rows": null,
            "grid_gap": null,
            "max_width": null,
            "order": null,
            "_view_module_version": "1.2.0",
            "grid_template_areas": null,
            "object_position": null,
            "object_fit": null,
            "grid_auto_columns": null,
            "margin": null,
            "display": null,
            "left": null
          }
        },
        "706e2a4680c44153af51b879f6d87a66": {
          "model_module": "@jupyter-widgets/controls",
          "model_name": "DescriptionStyleModel",
          "model_module_version": "1.5.0",
          "state": {
            "_view_name": "StyleView",
            "_model_name": "DescriptionStyleModel",
            "description_width": "",
            "_view_module": "@jupyter-widgets/base",
            "_model_module_version": "1.5.0",
            "_view_count": null,
            "_view_module_version": "1.2.0",
            "_model_module": "@jupyter-widgets/controls"
          }
        },
        "ef10b4aae3d64bd9bf031eb09c1747e0": {
          "model_module": "@jupyter-widgets/base",
          "model_name": "LayoutModel",
          "model_module_version": "1.2.0",
          "state": {
            "_view_name": "LayoutView",
            "grid_template_rows": null,
            "right": null,
            "justify_content": null,
            "_view_module": "@jupyter-widgets/base",
            "overflow": null,
            "_model_module_version": "1.2.0",
            "_view_count": null,
            "flex_flow": null,
            "width": null,
            "min_width": null,
            "border": null,
            "align_items": null,
            "bottom": null,
            "_model_module": "@jupyter-widgets/base",
            "top": null,
            "grid_column": null,
            "overflow_y": null,
            "overflow_x": null,
            "grid_auto_flow": null,
            "grid_area": null,
            "grid_template_columns": null,
            "flex": null,
            "_model_name": "LayoutModel",
            "justify_items": null,
            "grid_row": null,
            "max_height": null,
            "align_content": null,
            "visibility": null,
            "align_self": null,
            "height": null,
            "min_height": null,
            "padding": null,
            "grid_auto_rows": null,
            "grid_gap": null,
            "max_width": null,
            "order": null,
            "_view_module_version": "1.2.0",
            "grid_template_areas": null,
            "object_position": null,
            "object_fit": null,
            "grid_auto_columns": null,
            "margin": null,
            "display": null,
            "left": null
          }
        }
      }
    }
  },
  "cells": [
    {
      "cell_type": "markdown",
      "metadata": {
        "id": "eZe-ophGpSgq"
      },
      "source": [
        "# Preparation\n",
        "We need to load reference model for code examples in this section. First, we will train the model in this runtime."
      ]
    },
    {
      "cell_type": "code",
      "metadata": {
        "id": "NGS1YDZtEEni"
      },
      "source": [
        "import torch\n",
        "import torch.nn as nn\n",
        "from torchvision.datasets import MNIST\n",
        "from torchvision.transforms import ToTensor\n",
        "from torch.utils.data import DataLoader\n",
        "from torch import optim"
      ],
      "execution_count": 1,
      "outputs": []
    },
    {
      "cell_type": "code",
      "metadata": {
        "id": "bpUSHm4hEsZR",
        "colab": {
          "base_uri": "https://localhost:8080/"
        },
        "outputId": "5449c639-a3ec-4281-d6c5-2a01bbfebb45"
      },
      "source": [
        "# For reproducability\n",
        "torch.manual_seed(0)"
      ],
      "execution_count": 2,
      "outputs": [
        {
          "output_type": "execute_result",
          "data": {
            "text/plain": [
              "<torch._C.Generator at 0x7f1ad741f950>"
            ]
          },
          "metadata": {},
          "execution_count": 2
        }
      ]
    },
    {
      "cell_type": "code",
      "metadata": {
        "id": "wJFD-0MsEJnC"
      },
      "source": [
        "class Net(nn.Module):\n",
        "  def __init__(self, in_dim, feature_dim, out_dim):\n",
        "    super(Net, self).__init__()\n",
        "    self.classifier = nn.Sequential(\n",
        "        nn.Flatten(),\n",
        "        nn.Linear(in_dim, feature_dim),\n",
        "        nn.ReLU(),\n",
        "        nn.Linear(feature_dim, feature_dim),\n",
        "        nn.ReLU(),\n",
        "        nn.Linear(feature_dim, out_dim),\n",
        "        nn.ReLU()\n",
        "    )\n",
        "\n",
        "  def forward(self, inputs):\n",
        "    return self.classifier(inputs)"
      ],
      "execution_count": 3,
      "outputs": []
    },
    {
      "cell_type": "code",
      "metadata": {
        "id": "zjbb9aXVEP7Y",
        "colab": {
          "base_uri": "https://localhost:8080/",
          "height": 423,
          "referenced_widgets": [
            "7269fab6948840808e14c9ccdaaa918d",
            "c1c55b6c00d240f68ca44e78b8d1d291",
            "32f78b8100d64490bf791b985e199619",
            "4ea2f93f9950481fbe941983c3ac6c55",
            "3baee13ef37a485fb0170474b820d38e",
            "3c10f625018143cc9b0baf97dc76474f",
            "7f081ea0ebce458aa9b2dbd6b4e38950",
            "6029ac9757614df980f94b8bc560a6f6",
            "de439d1dc17b4a818c57bc97c8ccd81a",
            "d7d0a4ceeb67466eafeb5742b5e53432",
            "54e006dab2c8446aa09648414a352de8",
            "74b219bda1dc469db86b7aa836ccc60c",
            "cbaff74ee22341e3ba488d7bd3548efe",
            "9d97e5664c7548aea112fa101553a90a",
            "62a2e5ffe70f4ab880a03837e2ea97c7",
            "d15f1764a3b0447c8ed58b821afd24f5",
            "afc3f25f42b24b5e9489223d112574b5",
            "69eaaa7628b148ce82ca395f98ca39df",
            "428d08a2ea6145948931e2a140ff0547",
            "f019e5541ab74a2bba0dcbec8d24a617",
            "c17f3b34172548d4b36d33a7da0f4418",
            "2f710a211ef64cd6bf8b8e374f7b148b",
            "dfde95fb58db4a289c921454733db858",
            "f9417d3dfb0345cdb7227e41e9bc9fb8",
            "a1571c6e89e64002b35420e07f7218fb",
            "cfa52a95b68743cd963c5edc0b9a182f",
            "c9364db45b6e42b48e3bba15fa5ed325",
            "140697869e3849feb58d730f98b0e31f",
            "38aad26bbb5540d0bc0e8b51d62a6fcb",
            "244d201fd2904c7ba81aff67700ea52d",
            "db4793fdcd2e45cc82ae623705135f79",
            "0ef09bc5cb134379b24e35047f38c7a4",
            "6e40912149544db9bd5f6c4e826ca334",
            "0097532cf6f54c3c997e2519cae1fd67",
            "0faf4503356049a7b526cc3e92c9d5aa",
            "d46d517fcafa40e48eb50883933e7ea7",
            "61556930b3494d3cb4a4bbcfa303f697",
            "3d684cf6bd5a4e69bdd013c9ce001f51",
            "e4f26680da424381bd0f040c3d1efd0a",
            "0fd21277ac31445f991067f1a5d0c0bd",
            "ab7084d4474f41208b6be1db34018195",
            "7982d4b4d0ce4402b8d2a935386901c7",
            "706e2a4680c44153af51b879f6d87a66",
            "ef10b4aae3d64bd9bf031eb09c1747e0"
          ]
        },
        "outputId": "a7096a27-da6a-4d03-aab1-745437571500"
      },
      "source": [
        "trainset = MNIST('.', train=True, download=True, \n",
        "                      transform=ToTensor())\n",
        "testset = MNIST('.', train=False, download=True, \n",
        "                      transform=ToTensor())\n",
        "trainloader = DataLoader(trainset, batch_size=64, shuffle=True)\n",
        "testloader = DataLoader(testset, batch_size=64, shuffle=False)"
      ],
      "execution_count": 4,
      "outputs": [
        {
          "output_type": "stream",
          "name": "stdout",
          "text": [
            "Downloading http://yann.lecun.com/exdb/mnist/train-images-idx3-ubyte.gz\n",
            "Downloading http://yann.lecun.com/exdb/mnist/train-images-idx3-ubyte.gz to ./MNIST/raw/train-images-idx3-ubyte.gz\n"
          ]
        },
        {
          "output_type": "display_data",
          "data": {
            "application/vnd.jupyter.widget-view+json": {
              "model_id": "7269fab6948840808e14c9ccdaaa918d",
              "version_minor": 0,
              "version_major": 2
            },
            "text/plain": [
              "  0%|          | 0/9912422 [00:00<?, ?it/s]"
            ]
          },
          "metadata": {}
        },
        {
          "output_type": "stream",
          "name": "stdout",
          "text": [
            "Extracting ./MNIST/raw/train-images-idx3-ubyte.gz to ./MNIST/raw\n",
            "\n",
            "Downloading http://yann.lecun.com/exdb/mnist/train-labels-idx1-ubyte.gz\n",
            "Downloading http://yann.lecun.com/exdb/mnist/train-labels-idx1-ubyte.gz to ./MNIST/raw/train-labels-idx1-ubyte.gz\n"
          ]
        },
        {
          "output_type": "display_data",
          "data": {
            "application/vnd.jupyter.widget-view+json": {
              "model_id": "74b219bda1dc469db86b7aa836ccc60c",
              "version_minor": 0,
              "version_major": 2
            },
            "text/plain": [
              "  0%|          | 0/28881 [00:00<?, ?it/s]"
            ]
          },
          "metadata": {}
        },
        {
          "output_type": "stream",
          "name": "stdout",
          "text": [
            "Extracting ./MNIST/raw/train-labels-idx1-ubyte.gz to ./MNIST/raw\n",
            "\n",
            "Downloading http://yann.lecun.com/exdb/mnist/t10k-images-idx3-ubyte.gz\n",
            "Downloading http://yann.lecun.com/exdb/mnist/t10k-images-idx3-ubyte.gz to ./MNIST/raw/t10k-images-idx3-ubyte.gz\n"
          ]
        },
        {
          "output_type": "display_data",
          "data": {
            "application/vnd.jupyter.widget-view+json": {
              "model_id": "dfde95fb58db4a289c921454733db858",
              "version_minor": 0,
              "version_major": 2
            },
            "text/plain": [
              "  0%|          | 0/1648877 [00:00<?, ?it/s]"
            ]
          },
          "metadata": {}
        },
        {
          "output_type": "stream",
          "name": "stdout",
          "text": [
            "Extracting ./MNIST/raw/t10k-images-idx3-ubyte.gz to ./MNIST/raw\n",
            "\n",
            "Downloading http://yann.lecun.com/exdb/mnist/t10k-labels-idx1-ubyte.gz\n",
            "Downloading http://yann.lecun.com/exdb/mnist/t10k-labels-idx1-ubyte.gz to ./MNIST/raw/t10k-labels-idx1-ubyte.gz\n"
          ]
        },
        {
          "output_type": "display_data",
          "data": {
            "application/vnd.jupyter.widget-view+json": {
              "model_id": "0097532cf6f54c3c997e2519cae1fd67",
              "version_minor": 0,
              "version_major": 2
            },
            "text/plain": [
              "  0%|          | 0/4542 [00:00<?, ?it/s]"
            ]
          },
          "metadata": {}
        },
        {
          "output_type": "stream",
          "name": "stdout",
          "text": [
            "Extracting ./MNIST/raw/t10k-labels-idx1-ubyte.gz to ./MNIST/raw\n",
            "\n"
          ]
        }
      ]
    },
    {
      "cell_type": "markdown",
      "source": [
        "# NOTE: \n",
        "The training loop below will take approx. 5-6 minutes to run with epochs = 40.\n",
        "\n",
        "You can use a smaller value if you don't want to train that long."
      ],
      "metadata": {
        "id": "SeFMcy0P7m8H"
      }
    },
    {
      "cell_type": "code",
      "metadata": {
        "colab": {
          "base_uri": "https://localhost:8080/"
        },
        "id": "XlDyN5R2ETdh",
        "outputId": "581cc640-bf5a-4ec1-bf33-2192d9cc2baa"
      },
      "source": [
        "IN_DIM, FEATURE_DIM, OUT_DIM = 784, 256, 10\n",
        "lr = 1e-4\n",
        "loss_fn = nn.CrossEntropyLoss()\n",
        "num_epochs = 40\n",
        "classifier = Net(IN_DIM, FEATURE_DIM, OUT_DIM)\n",
        "optimizer = optim.SGD(classifier.parameters(), lr=lr)\n",
        "classifier"
      ],
      "execution_count": 5,
      "outputs": [
        {
          "output_type": "execute_result",
          "data": {
            "text/plain": [
              "Net(\n",
              "  (classifier): Sequential(\n",
              "    (0): Flatten(start_dim=1, end_dim=-1)\n",
              "    (1): Linear(in_features=784, out_features=256, bias=True)\n",
              "    (2): ReLU()\n",
              "    (3): Linear(in_features=256, out_features=256, bias=True)\n",
              "    (4): ReLU()\n",
              "    (5): Linear(in_features=256, out_features=10, bias=True)\n",
              "    (6): ReLU()\n",
              "  )\n",
              ")"
            ]
          },
          "metadata": {},
          "execution_count": 5
        }
      ]
    },
    {
      "cell_type": "code",
      "metadata": {
        "colab": {
          "base_uri": "https://localhost:8080/"
        },
        "id": "EyaAM2ZmEW45",
        "outputId": "b009fcee-11f0-4dba-af0f-3bd8d78ccebc"
      },
      "source": [
        "for epochs in range(num_epochs):\n",
        "  running_loss = 0.0\n",
        "  for inputs, labels in trainloader:\n",
        "    optimizer.zero_grad()\n",
        "    outputs = classifier(inputs)\n",
        "    loss = loss_fn(outputs, labels)\n",
        "    loss.backward()\n",
        "    running_loss += loss.item()\n",
        "    optimizer.step()\n",
        "  print(running_loss/len(trainloader))\n"
      ],
      "execution_count": 6,
      "outputs": [
        {
          "output_type": "stream",
          "name": "stdout",
          "text": [
            "2.304971021121499\n",
            "2.302525174643185\n",
            "2.299957237772342\n",
            "2.297387815741842\n",
            "2.294872467197589\n",
            "2.292390913088947\n",
            "2.2899169403352717\n",
            "2.2874326375501752\n",
            "2.2849312514892772\n",
            "2.2823666710335053\n",
            "2.279773563972668\n",
            "2.277095660471967\n",
            "2.27435744266266\n",
            "2.2715469652147435\n",
            "2.268646004865927\n",
            "2.2656551421578253\n",
            "2.2625733082736734\n",
            "2.259384568820376\n",
            "2.256069576816518\n",
            "2.2526530426448343\n",
            "2.2490698691370135\n",
            "2.2453533286478984\n",
            "2.241465627003326\n",
            "2.237424060225741\n",
            "2.2331880450502894\n",
            "2.228737404859905\n",
            "2.2240895998757533\n",
            "2.219208516800073\n",
            "2.214078137106987\n",
            "2.2086960834734986\n",
            "2.2030509750980305\n",
            "2.1971164784197614\n",
            "2.1908428282625896\n",
            "2.184254756868521\n",
            "2.1773439655934315\n",
            "2.170090768128824\n",
            "2.162415165382662\n",
            "2.154347401692161\n",
            "2.1458973089006665\n",
            "2.136968573781727\n"
          ]
        }
      ]
    },
    {
      "cell_type": "code",
      "metadata": {
        "colab": {
          "base_uri": "https://localhost:8080/"
        },
        "id": "UB7IVP22EctT",
        "outputId": "08966800-64f1-47cd-eb47-535fe73f22c4"
      },
      "source": [
        "model = classifier\n",
        "print(\"Model's state_dict:\")\n",
        "for param_tensor in model.state_dict():\n",
        "    print(param_tensor, \"\\t\", \n",
        "          model.state_dict()[param_tensor].size())\n",
        "    \n",
        "# out:\n",
        "# Model's state_dict:\n",
        "# classifier.1.weight \ttorch.Size([256, 784])\n",
        "# classifier.1.bias \t  torch.Size([256])\n",
        "# classifier.3.weight \ttorch.Size([256, 256])\n",
        "# classifier.3.bias \t  torch.Size([256])\n",
        "# classifier.5.weight \ttorch.Size([10, 256])\n",
        "# classifier.5.bias \t  torch.Size([10])"
      ],
      "execution_count": 7,
      "outputs": [
        {
          "output_type": "stream",
          "name": "stdout",
          "text": [
            "Model's state_dict:\n",
            "classifier.1.weight \t torch.Size([256, 784])\n",
            "classifier.1.bias \t torch.Size([256])\n",
            "classifier.3.weight \t torch.Size([256, 256])\n",
            "classifier.3.bias \t torch.Size([256])\n",
            "classifier.5.weight \t torch.Size([10, 256])\n",
            "classifier.5.bias \t torch.Size([10])\n"
          ]
        }
      ]
    },
    {
      "cell_type": "code",
      "metadata": {
        "id": "OogWxCy6EdZ4"
      },
      "source": [
        "# Save state to file as checkpoint\n",
        "torch.save(model.state_dict(), 'mnist.pt')"
      ],
      "execution_count": 8,
      "outputs": []
    },
    {
      "cell_type": "markdown",
      "metadata": {
        "id": "idsehQ6qEDQD"
      },
      "source": [
        "# How Pesky Are Spurious Local Minima in Deep Networks?"
      ]
    },
    {
      "cell_type": "code",
      "metadata": {
        "id": "5yXeAzIfFP-g",
        "colab": {
          "base_uri": "https://localhost:8080/"
        },
        "outputId": "c1e6c2f2-77f6-4177-f986-80a3f5ce5a0c"
      },
      "source": [
        "# Load checkpoint from SGD training\n",
        "IN_DIM, FEATURE_DIM, OUT_DIM = 784, 256, 10\n",
        "model = Net(IN_DIM, FEATURE_DIM, OUT_DIM)\n",
        "\n",
        "model.load_state_dict(torch.load('mnist.pt'))"
      ],
      "execution_count": 9,
      "outputs": [
        {
          "output_type": "execute_result",
          "data": {
            "text/plain": [
              "<All keys matched successfully>"
            ]
          },
          "metadata": {},
          "execution_count": 9
        }
      ]
    },
    {
      "cell_type": "code",
      "metadata": {
        "colab": {
          "base_uri": "https://localhost:8080/"
        },
        "id": "iQGy-JJJMVVl",
        "outputId": "b3d12050-bacb-4705-ee64-31562af2a418"
      },
      "source": [
        "import copy \n",
        "\n",
        "# Access parameters with state_dict\n",
        "opt_state_dict = copy.deepcopy(model.state_dict())\n",
        "\n",
        "for param_tensor in opt_state_dict:\n",
        "    print(param_tensor, \"\\t\", \n",
        "          opt_state_dict[param_tensor].size())\n",
        "\n",
        "# outputs:\n",
        "# classifier.1.weight \ttorch.Size([256, 784])\n",
        "# classifier.1.bias \t  torch.Size([256])\n",
        "# classifier.3.weight \ttorch.Size([256, 256])\n",
        "# classifier.3.bias \t  torch.Size([256])\n",
        "# classifier.5.weight \ttorch.Size([10, 256])\n",
        "# classifier.5.bias \t  torch.Size([10])"
      ],
      "execution_count": 10,
      "outputs": [
        {
          "output_type": "stream",
          "name": "stdout",
          "text": [
            "classifier.1.weight \t torch.Size([256, 784])\n",
            "classifier.1.bias \t torch.Size([256])\n",
            "classifier.3.weight \t torch.Size([256, 256])\n",
            "classifier.3.bias \t torch.Size([256])\n",
            "classifier.5.weight \t torch.Size([10, 256])\n",
            "classifier.5.bias \t torch.Size([10])\n"
          ]
        }
      ]
    },
    {
      "cell_type": "code",
      "metadata": {
        "id": "4kG9qHhuGn_I"
      },
      "source": [
        "# Create randomly initialized network\n",
        "model_rand = Net(IN_DIM, FEATURE_DIM, OUT_DIM)\n",
        "rand_state_dict = copy.deepcopy(model_rand.state_dict())"
      ],
      "execution_count": 11,
      "outputs": []
    },
    {
      "cell_type": "code",
      "metadata": {
        "id": "IIHgvu9SK9Ih"
      },
      "source": [
        "# Create a new state_dict for interpolated parameters\n",
        "test_model = Net(IN_DIM, FEATURE_DIM, OUT_DIM)\n",
        "test_state_dict = copy.deepcopy(test_model.state_dict())\n",
        "\n",
        "alpha = 0.2\n",
        "beta = 1.0 - alpha\n",
        "for p in opt_state_dict:\n",
        "    test_state_dict[p] = (opt_state_dict[p] * beta + \n",
        "                          rand_state_dict[p] * alpha)"
      ],
      "execution_count": 12,
      "outputs": []
    },
    {
      "cell_type": "code",
      "metadata": {
        "id": "21HXdIYvDCOC"
      },
      "source": [
        "def inference(testloader, model, loss_fn):\n",
        "  running_loss = 0.0\n",
        "  with torch.no_grad():\n",
        "    for inputs, labels in testloader:\n",
        "      outputs = model(inputs)\n",
        "      loss = loss_fn(outputs, labels)\n",
        "      running_loss += loss\n",
        "  running_loss /= len(testloader)\n",
        "  return running_loss"
      ],
      "execution_count": 13,
      "outputs": []
    },
    {
      "cell_type": "code",
      "metadata": {
        "colab": {
          "base_uri": "https://localhost:8080/"
        },
        "id": "udtw5Xd7M1IR",
        "outputId": "36f6acb1-6963-4bee-ca69-2fec541affe3"
      },
      "source": [
        "opt_state_dict['classifier.1.weight'][0][0]"
      ],
      "execution_count": 14,
      "outputs": [
        {
          "output_type": "execute_result",
          "data": {
            "text/plain": [
              "tensor(-0.0003)"
            ]
          },
          "metadata": {},
          "execution_count": 14
        }
      ]
    },
    {
      "cell_type": "code",
      "metadata": {
        "id": "L7lIz_9lNah9",
        "colab": {
          "base_uri": "https://localhost:8080/"
        },
        "outputId": "33ef4371-aefc-4f30-a35d-db1f92d887d8"
      },
      "source": [
        "results = []\n",
        "for alpha in torch.arange(-2, 2, 0.05):\n",
        "  beta = 1.0 - alpha\n",
        "  \n",
        "  # Compute interpolated parameters\n",
        "  for p in opt_state_dict:\n",
        "    test_state_dict[p] = (opt_state_dict[p] * beta + \n",
        "                          rand_state_dict[p] * alpha)\n",
        "  \n",
        "  # Load interpolated parameters into test model\n",
        "  model.load_state_dict(test_state_dict)\n",
        "  \n",
        "  # Compute Loss given interpolated parameters\n",
        "  loss = inference(trainloader, model, loss_fn)\n",
        "  results.append(loss.item())\n",
        "  print(loss.item())\n"
      ],
      "execution_count": 15,
      "outputs": [
        {
          "output_type": "stream",
          "name": "stdout",
          "text": [
            "2.1099166870117188\n",
            "2.0415546894073486\n",
            "1.9778270721435547\n",
            "1.9189612865447998\n",
            "1.864169716835022\n",
            "1.8136403560638428\n",
            "1.7681137323379517\n",
            "1.7261067628860474\n",
            "1.6895527839660645\n",
            "1.657103419303894\n",
            "1.6293623447418213\n",
            "1.6062946319580078\n",
            "1.587363600730896\n",
            "1.573352575302124\n",
            "1.5633422136306763\n",
            "1.557781457901001\n",
            "1.5563969612121582\n",
            "1.5588665008544922\n",
            "1.565139889717102\n",
            "1.5749578475952148\n",
            "1.588403582572937\n",
            "1.6046960353851318\n",
            "1.6239047050476074\n",
            "1.6455479860305786\n",
            "1.6694955825805664\n",
            "1.695425033569336\n",
            "1.7229923009872437\n",
            "1.751861333847046\n",
            "1.7819701433181763\n",
            "1.8126819133758545\n",
            "1.8440470695495605\n",
            "1.8755236864089966\n",
            "1.9069538116455078\n",
            "1.9381364583969116\n",
            "1.9687857627868652\n",
            "1.9987164735794067\n",
            "2.027782678604126\n",
            "2.055727005004883\n",
            "2.082671880722046\n",
            "2.108156681060791\n",
            "2.1323750019073486\n",
            "2.155137538909912\n",
            "2.1763978004455566\n",
            "2.1960811614990234\n",
            "2.214101791381836\n",
            "2.2304604053497314\n",
            "2.245029926300049\n",
            "2.257768154144287\n",
            "2.2686047554016113\n",
            "2.277557611465454\n",
            "2.2848060131073\n",
            "2.290665864944458\n",
            "2.295278549194336\n",
            "2.2984447479248047\n",
            "2.300204277038574\n",
            "2.301117181777954\n",
            "2.3015639781951904\n",
            "2.3017475605010986\n",
            "2.3018321990966797\n",
            "2.3019208908081055\n",
            "2.302056312561035\n",
            "2.302245616912842\n",
            "2.3024940490722656\n",
            "2.3028247356414795\n",
            "2.3032612800598145\n",
            "2.303834915161133\n",
            "2.3045730590820312\n",
            "2.3055272102355957\n",
            "2.3067550659179688\n",
            "2.3082568645477295\n",
            "2.3101303577423096\n",
            "2.312364101409912\n",
            "2.315049886703491\n",
            "2.318203926086426\n",
            "2.321962594985962\n",
            "2.3263051509857178\n",
            "2.3313491344451904\n",
            "2.3372573852539062\n",
            "2.344052791595459\n",
            "2.351867198944092\n"
          ]
        }
      ]
    },
    {
      "cell_type": "code",
      "metadata": {
        "colab": {
          "base_uri": "https://localhost:8080/",
          "height": 296
        },
        "id": "k4Rn6sqbOt1P",
        "outputId": "b8f202a5-145c-4531-81bd-7be9159da21e"
      },
      "source": [
        "import matplotlib.pyplot as plt\n",
        "import numpy as np\n",
        "\n",
        "plt.plot(np.arange(-2, 2, 0.05), results, 'ro')\n",
        "plt.ylabel('Incurred Error')\n",
        "plt.xlabel('Alpha')"
      ],
      "execution_count": 16,
      "outputs": [
        {
          "output_type": "execute_result",
          "data": {
            "text/plain": [
              "Text(0.5, 0, 'Alpha')"
            ]
          },
          "metadata": {},
          "execution_count": 16
        },
        {
          "output_type": "display_data",
          "data": {
            "image/png": "[encoded data removed]",
            "text/plain": [
              "<Figure size 432x288 with 1 Axes>"
            ]
          },
          "metadata": {
            "needs_background": "light"
          }
        }
      ]
    },
    {
      "cell_type": "markdown",
      "metadata": {
        "id": "ecCGyr33pxcv"
      },
      "source": [
        "# Momentum-Based Optimization"
      ]
    },
    {
      "cell_type": "code",
      "metadata": {
        "colab": {
          "base_uri": "https://localhost:8080/"
        },
        "id": "XaO3cEEVtrM5",
        "outputId": "00838fd6-e7d4-4340-8777-055a31c8796a"
      },
      "source": [
        "import torch\n",
        "torch.randint(-10, 10, (1,1))"
      ],
      "execution_count": 17,
      "outputs": [
        {
          "output_type": "execute_result",
          "data": {
            "text/plain": [
              "tensor([[7]])"
            ]
          },
          "metadata": {},
          "execution_count": 17
        }
      ]
    },
    {
      "cell_type": "code",
      "metadata": {
        "id": "iMKByahlpyWx"
      },
      "source": [
        "#\n",
        "rand_walk = [torch.randint(-10, 10, (1,1)) for x in range(100)]"
      ],
      "execution_count": 18,
      "outputs": []
    },
    {
      "cell_type": "code",
      "metadata": {
        "id": "AFZnQCcZpzVL"
      },
      "source": [
        "# \n",
        "momentum = 0.1\n",
        "momentum_rand_walk = \\\n",
        "      [torch.randint(-10, 10, (1,1)) for x in range(100)]\n",
        "\n",
        "for i in range(1, len(rand_walk) - 1):\n",
        "  prev = momentum_rand_walk[i-1]\n",
        "  rand_choice = torch.randint(-10, 10, (1,1)).item()\n",
        "  new_step = momentum * prev + (1 - momentum) * rand_choice\n",
        "  momentum_rand_walk[i] = new_step"
      ],
      "execution_count": 19,
      "outputs": []
    },
    {
      "cell_type": "code",
      "metadata": {
        "colab": {
          "base_uri": "https://localhost:8080/",
          "height": 372
        },
        "id": "YUUg3g5xv8pM",
        "outputId": "c9a053a3-d5b8-4843-ee81-4e77be98cf46"
      },
      "source": [
        "import matplotlib.pyplot as plt\n",
        "\n",
        "plt.plot(momentum_rand_walk[:-1])"
      ],
      "execution_count": 20,
      "outputs": [
        {
          "output_type": "stream",
          "name": "stderr",
          "text": [
            "/usr/local/lib/python3.7/dist-packages/numpy/core/shape_base.py:65: FutureWarning: The input object of type 'Tensor' is an array-like implementing one of the corresponding protocols (`__array__`, `__array_interface__` or `__array_struct__`); but not a sequence (or 0-D). In the future, this object will be coerced as if it was first converted using `np.array(obj)`. To retain the old behaviour, you have to either modify the type 'Tensor', or assign to an empty array created with `np.empty(correct_shape, dtype=object)`.\n",
            "  ary = asanyarray(ary)\n",
            "/usr/local/lib/python3.7/dist-packages/numpy/core/shape_base.py:65: VisibleDeprecationWarning: Creating an ndarray from ragged nested sequences (which is a list-or-tuple of lists-or-tuples-or ndarrays with different lengths or shapes) is deprecated. If you meant to do this, you must specify 'dtype=object' when creating the ndarray.\n",
            "  ary = asanyarray(ary)\n"
          ]
        },
        {
          "output_type": "execute_result",
          "data": {
            "text/plain": [
              "[<matplotlib.lines.Line2D at 0x7f1acfd80290>]"
            ]
          },
          "metadata": {},
          "execution_count": 20
        },
        {
          "output_type": "display_data",
          "data": {
            "image/png": "[encoded data removed]",
            "text/plain": [
              "<Figure size 432x288 with 1 Axes>"
            ]
          },
          "metadata": {
            "needs_background": "light"
          }
        }
      ]
    },
    {
      "cell_type": "code",
      "metadata": {
        "id": "407EmDgDqlwq"
      },
      "source": [
        "from torch import optim, nn\n",
        "# example model\n",
        "model = nn.Conv2d(1,32,3)"
      ],
      "execution_count": 21,
      "outputs": []
    },
    {
      "cell_type": "code",
      "metadata": {
        "id": "e3VA5l32p4ZL"
      },
      "source": [
        "# \n",
        "optimizer = optim.SGD(model.parameters(),\n",
        "                      lr = 0.01,\n",
        "                      momentum = 0.9)\n",
        "\n",
        "optimizer.step()"
      ],
      "execution_count": 22,
      "outputs": []
    },
    {
      "cell_type": "code",
      "metadata": {
        "id": "vh2RtWQociCG"
      },
      "source": [
        "optimizer = optim.SGD(model.parameters(),\n",
        "                      lr = 0.01,\n",
        "                      momentum = 0.9,\n",
        "                      nesterov = True)\n"
      ],
      "execution_count": 23,
      "outputs": []
    },
    {
      "cell_type": "markdown",
      "metadata": {
        "id": "cETDeQJQqANh"
      },
      "source": [
        "# AdaGrad—Accumulating Historical Gradients"
      ]
    },
    {
      "cell_type": "code",
      "metadata": {
        "id": "NW1DJNFUp_Cq"
      },
      "source": [
        "optimizer = optim.Adagrad(model.parameters(),\n",
        "                          lr = 0.01,\n",
        "                          weight_decay = 0,\n",
        "                          initial_accumulator_value = 0)"
      ],
      "execution_count": 24,
      "outputs": []
    },
    {
      "cell_type": "markdown",
      "source": [
        "# RMSProp—Exponentially Weighted Moving Average of Gradients"
      ],
      "metadata": {
        "id": "43woOYOCqau4"
      }
    },
    {
      "cell_type": "code",
      "metadata": {
        "id": "HPScDCaYqFBA"
      },
      "source": [
        "optimizer = optim.RMSprop(model.parameters(),\n",
        "                          lr = 0.01,\n",
        "                          alpha = 0.99,\n",
        "                          eps = 1e-8,\n",
        "                          weight_decay = 0,\n",
        "                          momentum = 0)"
      ],
      "execution_count": 25,
      "outputs": []
    },
    {
      "cell_type": "markdown",
      "source": [
        "# Adam—Combining Momentum and RMSProp"
      ],
      "metadata": {
        "id": "wvJvHZCCqd67"
      }
    },
    {
      "cell_type": "code",
      "metadata": {
        "id": "JwNx5zNpqG3h"
      },
      "source": [
        "optimizer = optim.Adam(model.parameters(),\n",
        "                       lr = 0.001,\n",
        "                       betas = (0.9, 0.999),\n",
        "                       eps = 1e-08,\n",
        "                       weight_decay = 0,\n",
        "                       amsgrad = False)"
      ],
      "execution_count": 26,
      "outputs": []
    }
  ]
}