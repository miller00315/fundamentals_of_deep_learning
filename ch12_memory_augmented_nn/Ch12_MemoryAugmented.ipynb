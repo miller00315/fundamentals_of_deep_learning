{
  "nbformat": 4,
  "nbformat_minor": 0,
  "metadata": {
    "colab": {
      "name": "Ch12_MemoryAugmented.ipynb",
      "provenance": []
    },
    "kernelspec": {
      "name": "python3",
      "display_name": "Python 3"
    },
    "language_info": {
      "name": "python"
    }
  },
  "cells": [
    {
      "cell_type": "markdown",
      "source": [
        "#Implementing the DNC in PyTorch"
      ],
      "metadata": {
        "id": "AmTCQQ41h1gs"
      }
    },
    {
      "cell_type": "markdown",
      "source": [
        "# PyTorch Code\n",
        "Only the code printed in the book has been converted to PyTorch.  This notebook contains that code.\n",
        "\n",
        "However, the entire code set needed to run the training and testing of bAbI has not yet been converted.  For reference, the complete codeset can be found at https://github.com/darksigma/Fundamentals-of-Deep-Learning-Book/tree/master/first_edition_archive/archive/dnc\n",
        "\n",
        "The folder above contains the files referenced in the book:\n",
        "- mem_ops.py\n",
        "- preprocess.py\n",
        "- train_babi.py\n",
        "- test_babi.py"
      ],
      "metadata": {
        "id": "2XvSCp2f7foV"
      }
    },
    {
      "cell_type": "code",
      "source": [
        "import torch\n",
        "def Lt(L, wwt, p, N):\n",
        "\n",
        "    L_t = torch.zeros((N,N), dtype=torch.float32)\n",
        "    for i in range(N):\n",
        "        for j in range(N):\n",
        "            if i == j:\n",
        "                continue\n",
        "            mask = torch.zeros((N,N), dtype=torch.float32)\n",
        "            mask[i,j] = 1.0\n",
        "        \n",
        "            link_t = (1 - wwt[i] - wwt[j]) * L[i,j] + \\\n",
        "                      wwt[i] * p[j]\n",
        "            L_t += mask * link_t\n",
        "    return L_t"
      ],
      "metadata": {
        "id": "g-Fp-Zyr8lpV"
      },
      "execution_count": null,
      "outputs": []
    },
    {
      "cell_type": "code",
      "source": [
        "# sample test code\n",
        "N = 10\n",
        "L = torch.randn((N,N))\n",
        "wwt = torch.randn(N)\n",
        "p = torch.randn(N)\n",
        "\n",
        "L_t = Lt(L, wwt, p, N)"
      ],
      "metadata": {
        "id": "gGxEXcFe8pFd"
      },
      "execution_count": null,
      "outputs": []
    },
    {
      "cell_type": "code",
      "source": [
        "def Lt(L, wwt, p, N):\n",
        "    \"\"\"\n",
        "    returns the updated link matrix given the previous one along\n",
        "    with the updated write weightings and the previous precedence\n",
        "    vector\n",
        "    \"\"\"\n",
        "    def pairwise_add(v):\n",
        "        \"\"\"\n",
        "        returns the matrix of pairs - adding the elements of v to\n",
        "        themselves\n",
        "        \"\"\"\n",
        "        n = v.shape[0]\n",
        "        # a NxN matrix of duplicates of u along the columns\n",
        "        V = v.repeat(1,n)  \n",
        "        return V + V\n",
        "\n",
        "    # expand dimensions of wwt and p to make matmul behave as outer\n",
        "    # product\n",
        "    wwt = torch.unsqueeze(wwt, 1)\n",
        "    p = torch.unsqueeze(p, 0)\n",
        "\n",
        "    I = torch.eye(N, dtype=torch.float32)\n",
        "    return (((1 - pairwise_add(wwt)) * L +\n",
        "             torch.matmul(wwt, p)) * (1 - I))"
      ],
      "metadata": {
        "id": "RiUrrSGF_S-V"
      },
      "execution_count": null,
      "outputs": []
    },
    {
      "cell_type": "code",
      "source": [
        "# sample test code\n",
        "N = 10\n",
        "L = torch.randn((N,N))\n",
        "wwt = torch.randn(N)\n",
        "p = torch.randn(N)\n",
        "\n",
        "L_t = Lt(L, wwt, p, N)"
      ],
      "metadata": {
        "id": "gRhe00Pn_X-i"
      },
      "execution_count": null,
      "outputs": []
    },
    {
      "cell_type": "code",
      "source": [
        "# sample test input\n",
        "ut = torch.randn((N))\n",
        "\n",
        "sorted_ut, free_list = torch.topk(-1*ut, N)\n",
        "sorted_ut *= -1"
      ],
      "metadata": {
        "id": "1ZqiwjFz9FEU"
      },
      "execution_count": null,
      "outputs": []
    },
    {
      "cell_type": "code",
      "source": [
        "# sample test code\n",
        "out_of_location_at = torch.rand(N)\n",
        "\n",
        "empty_at = torch.empty(N)\n",
        "a_t = empty_at.scatter(0, free_list, out_of_location_at)"
      ],
      "metadata": {
        "id": "2VU11cTz9Hv0"
      },
      "execution_count": null,
      "outputs": []
    }
  ]
}